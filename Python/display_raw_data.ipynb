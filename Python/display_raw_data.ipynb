{
 "cells": [
  {
   "cell_type": "code",
   "execution_count": null,
   "metadata": {
    "collapsed": true,
    "pycharm": {
     "is_executing": false,
     "name": "#%%\n"
    }
   },
   "outputs": [],
   "source": [
    "import matplotlib.pyplot as plt\n",
    "import numpy as np\n",
    "import scipy.signal \n",
    "from mat4py import loadmat\n",
    "from os import listdir\n",
    "from os.path import isfile, join\n",
    "myPath = \"../data/\"\n",
    "#myPath = \"C:\\\\Users\\\\Romain\\\\OneDrive\\\\Documents\\\\Cours\\\\Phelma\\\\3A SICOM\\\\Deuxieme_partie\\\\wind_turbine\\\\data\"\n",
    "\n",
    "files = [f for f in listdir(myPath) if isfile(join(myPath, f))]\n",
    "files.pop(0)"
   ]
  },
  {
   "cell_type": "code",
   "execution_count": null,
   "outputs": [],
   "source": [
    "\"\"\"\n",
    "keyword = 'lss'\n",
    "loaded_data = []\n",
    "for file in files:\n",
    "    if keyword in file:\n",
    "        print(file)\n",
    "        loaded_data.append(loadmat(myPath+file))\n",
    "\n",
    "data = []\n",
    "fs = []\n",
    "for i in range(len(loaded_data)):\n",
    "    a = loaded_data[i]\n",
    "    b = a[keyword]\n",
    "    data.append(b[\"rawData\"])\n",
    "    fs.append(b[\"fs\"])\n",
    "#TODO generate time  axis from sampling time  \n",
    "fr = np.zeros(len(data))\n",
    "for i in range(len(data)):\n",
    "    data[i] = data[i][100:-100]\n",
    "    fr[i] = (np.mean(data[i]))/60\n",
    "\n",
    "fo = np.dot(fr, 7.65)\n",
    "fi = np.dot(fr, 10.35)\n",
    "print(fr, '\\n', fo, '\\n', fi)\n",
    "\"\"\"\n"
   ],
   "metadata": {
    "collapsed": false,
    "pycharm": {
     "name": "#%% Load hss data and compute mean rotating speed per sample\n",
     "is_executing": false
    }
   }
  },
  {
   "cell_type": "code",
   "execution_count": null,
   "outputs": [],
   "source": [
    "keywords  = ['hss', 'i1', 'i2', 'i3', 'lss', 'v1', 'v2', 'v3', 'vib1', 'vib2', 'vib3']\n",
    "keyword = keywords[4]\n",
    "loaded_data = []\n",
    "for file in files:\n",
    "    if keyword in file:\n",
    "        print(file)\n",
    "        loaded_data.append(loadmat(myPath+file))\n",
    "\n",
    "data = []\n",
    "for i in range(len(loaded_data)):\n",
    "    a = loaded_data[i]\n",
    "    b = a[keyword]\n",
    "    data.append(b[\"rawData\"])\n",
    "    fs = b[\"fs\"]\n",
    "#TODO generate time  axis from sampling time  \n",
    "\n",
    "for i in range(len(data)):\n",
    "    data[i] = data[i][100:-100]\n",
    "print(\"Loaded and Data cropped\")\n",
    "\n",
    "plt.figure(figsize = (20,20))\n",
    "for i in range(len(data)):        \n",
    "    plt.subplot(231+i)\n",
    "    plt.plot(data[i])\n",
    "    plt.title(file[i])"
   ],
   "metadata": {
    "collapsed": false,
    "pycharm": {
     "name": "#%%\n",
     "is_executing": false
    }
   }
  },
  {
   "cell_type": "code",
   "execution_count": null,
   "outputs": [],
   "source": [
    "plt.figure(2, figsize = (50,50))\n",
    "for i in range(len(data)): \n",
    "    plt.figure(2)\n",
    "    plt.subplot(231+i)\n",
    "    ft = np.absolute(np.fft.fft(data[i]))\n",
    "    np.delete(ft, np.max(ft))\n",
    "    ftFreq = np.fft.fftfreq(len(data[i]))\n",
    "    plt.plot(ftFreq, ft)\n",
    "    \n",
    "    \n",
    "    plt.title(\"fft \" + file[i])\n",
    "    \n",
    "    #print(ft)"
   ],
   "metadata": {
    "collapsed": false,
    "pycharm": {
     "name": "#%% Compute and display fft\n",
     "is_executing": false
    }
   }
  },
  {
   "cell_type": "code",
   "execution_count": null,
   "outputs": [],
   "source": [
    "plt.figure(figsize = (50,50))\n",
    "welch = []\n",
    "for i in range(len(data)):\n",
    "    plt.subplot(231+i)\n",
    "    #frq, welch = scipy.signal.welch(data[i], fs = fs, nperseg=8000, nfft=80000)\n",
    "    frq, welch_temp = scipy.signal.welch(data[i], fs = fs, nperseg=fs*100)\n",
    "    welch.append(welch_temp)\n",
    "    plt.title(\"welch \" + file[i])\n",
    "    plt.plot(frq, welch[i])    \n",
    "    plt.plot([fo[i], fo[i]], [-1,1], 'k--', lw=2)\n",
    "    plt.plot([fi[i], fi[i]], [-1,1], 'k--', lw=2)\n",
    "    plt.xlim((0,4))\n",
    "    plt.ylim((-0.00001, 0.0002))\n",
    "\n",
    "plt.savefig('./images/welch_'+keyword, dpi = 300)"
   ],
   "metadata": {
    "collapsed": false,
    "pycharm": {
     "name": "#%% Compute DSP thanks to welch\n",
     "is_executing": false
    }
   }
  },
  {
   "cell_type": "code",
   "execution_count": null,
   "outputs": [],
   "source": [
    "delta_frq = 0.05\n",
    "pas_frq = frq[1]-frq[0]\n",
    "\n",
    "debut_fo = int((fo[i] - delta_frq/2 * pas_frq)// pas_frq)\n",
    "fin_fo = int((fo[i] + delta_frq/2 * pas_frq) // pas_frq) \n",
    "\n",
    "debut_fi = int((fi[i] - delta_frq/2 * pas_frq) // pas_frq) \n",
    "fin_fi = int((fi[i] + delta_frq/2 * pas_frq) // pas_frq) \n",
    "\n",
    "max_fo = []; max_fi = [];\n",
    "for i in range(len(data)):\n",
    "    max_fo.append(np.max(welch[i][debut_fo:fin_fo]))\n",
    "    max_fi.append(np.max(welch[i][debut_fo:fin_fi]))\n",
    "\n",
    "plt.figure(figsize=(20,20), dpi=300)\n",
    "plt.subplot(121)\n",
    "plt.plot(max_fo)\n",
    "plt.title('fo')\n",
    "plt.xlabel('time stamp')\n",
    "plt.subplot(122)\n",
    "plt.plot(max_fi)\n",
    "plt.title('fi')\n",
    "plt.xlabel('time stamp')\n",
    "\n",
    "plt.savefig('./images/max_pwelch_fo_fi_'+keyword, dpi = 300)"
   ],
   "metadata": {
    "collapsed": false,
    "pycharm": {
     "name": "#%% Display max for fo and fi for each TimeStamp\n",
     "is_executing": false
    }
   }
  },
  {
   "cell_type": "code",
   "execution_count": null,
   "outputs": [],
   "source": [
    "#It is normalized by the total energy  \n",
    "\n",
    "delta_frq = 0.05\n",
    "pas_frq = frq[1]-frq[0]\n",
    "\n",
    "debut_fo = int((fo[i] - delta_frq/2 * pas_frq)// pas_frq)\n",
    "fin_fo = int((fo[i] + delta_frq/2 * pas_frq) // pas_frq) \n",
    "\n",
    "debut_fi = int((fi[i] - delta_frq/2 * pas_frq) // pas_frq) \n",
    "fin_fi = int((fi[i] + delta_frq/2 * pas_frq) // pas_frq) \n",
    "\n",
    "sum_fo = []; sum_fi = []; sum_tot = [];\n",
    "for i in range(len(data)):\n",
    "    sum_fo.append(np.sum(welch[i][debut_fo:fin_fo]))\n",
    "    sum_fi.append(np.sum(welch[i][debut_fo:fin_fi]))\n",
    "    sum_tot.append(np.sum(welch[0]))\n",
    "\n",
    "\n",
    "plt.figure(figsize=(20,20), dpi=300)\n",
    "plt.subplot(121)\n",
    "plt.plot(np.array(sum_fo)/np.mean(sum_tot[0:1]))\n",
    "plt.title('fo')\n",
    "plt.xlabel('time stamp')\n",
    "plt.subplot(122)\n",
    "plt.plot(np.array(sum_fi)/np.mean(sum_tot[0:1]))\n",
    "plt.title('fi')\n",
    "plt.xlabel('time stamp')\n",
    "\n",
    "plt.savefig('./images/contrib_spectre_pwelch_fo_fi_'+keyword, dpi = 300)"
   ],
   "metadata": {
    "collapsed": false,
    "pycharm": {
     "name": "#%% Display energy contribution of fo and fi peaks for each TimeStamp\n",
     "is_executing": false
    }
   }
  }
 ],
 "metadata": {
  "kernelspec": {
   "display_name": "Python 3",
   "language": "python",
   "name": "python3"
  },
  "language_info": {
   "codemirror_mode": {
    "name": "ipython",
    "version": 2
   },
   "file_extension": ".py",
   "mimetype": "text/x-python",
   "name": "python",
   "nbconvert_exporter": "python",
   "pygments_lexer": "ipython2",
   "version": "2.7.6"
  },
  "pycharm": {
   "stem_cell": {
    "cell_type": "raw",
    "source": [],
    "metadata": {
     "collapsed": false
    }
   }
  }
 },
 "nbformat": 4,
 "nbformat_minor": 0
}